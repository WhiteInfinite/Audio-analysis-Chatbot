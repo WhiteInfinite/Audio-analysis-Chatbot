{
  "nbformat": 4,
  "nbformat_minor": 0,
  "metadata": {
    "colab": {
      "provenance": [],
      "gpuType": "T4"
    },
    "kernelspec": {
      "name": "python3",
      "display_name": "Python 3"
    },
    "language_info": {
      "name": "python"
    },
    "accelerator": "GPU"
  },
  "cells": [
    {
      "cell_type": "code",
      "execution_count": 1,
      "metadata": {
        "colab": {
          "base_uri": "https://localhost:8080/"
        },
        "id": "ptK52JDXbd6W",
        "outputId": "0aaf6c73-00a0-4c5c-e366-369d42e63ea5"
      },
      "outputs": [
        {
          "output_type": "stream",
          "name": "stdout",
          "text": [
            "Collecting openai-whisper\n",
            "  Downloading openai-whisper-20240930.tar.gz (800 kB)\n",
            "\u001b[?25l     \u001b[90m━━━━━━━━━━━━━━━━━━━━━━━━━━━━━━━━━━━━━━━━\u001b[0m \u001b[32m0.0/800.5 kB\u001b[0m \u001b[31m?\u001b[0m eta \u001b[36m-:--:--\u001b[0m\r\u001b[2K     \u001b[91m━━━━━━━━━━━━━━━━━━━━━━━━━━━━━━━━━━━━━\u001b[0m\u001b[91m╸\u001b[0m \u001b[32m798.7/800.5 kB\u001b[0m \u001b[31m28.6 MB/s\u001b[0m eta \u001b[36m0:00:01\u001b[0m\r\u001b[2K     \u001b[90m━━━━━━━━━━━━━━━━━━━━━━━━━━━━━━━━━━━━━━\u001b[0m \u001b[32m800.5/800.5 kB\u001b[0m \u001b[31m20.3 MB/s\u001b[0m eta \u001b[36m0:00:00\u001b[0m\n",
            "\u001b[?25h  Installing build dependencies ... \u001b[?25l\u001b[?25hdone\n",
            "  Getting requirements to build wheel ... \u001b[?25l\u001b[?25hdone\n",
            "  Preparing metadata (pyproject.toml) ... \u001b[?25l\u001b[?25hdone\n",
            "Requirement already satisfied: numba in /usr/local/lib/python3.11/dist-packages (from openai-whisper) (0.60.0)\n",
            "Requirement already satisfied: numpy in /usr/local/lib/python3.11/dist-packages (from openai-whisper) (2.0.2)\n",
            "Requirement already satisfied: torch in /usr/local/lib/python3.11/dist-packages (from openai-whisper) (2.6.0+cu124)\n",
            "Requirement already satisfied: tqdm in /usr/local/lib/python3.11/dist-packages (from openai-whisper) (4.67.1)\n",
            "Requirement already satisfied: more-itertools in /usr/local/lib/python3.11/dist-packages (from openai-whisper) (10.7.0)\n",
            "Requirement already satisfied: tiktoken in /usr/local/lib/python3.11/dist-packages (from openai-whisper) (0.9.0)\n",
            "Requirement already satisfied: triton>=2.0.0 in /usr/local/lib/python3.11/dist-packages (from openai-whisper) (3.2.0)\n",
            "Requirement already satisfied: llvmlite<0.44,>=0.43.0dev0 in /usr/local/lib/python3.11/dist-packages (from numba->openai-whisper) (0.43.0)\n",
            "Requirement already satisfied: regex>=2022.1.18 in /usr/local/lib/python3.11/dist-packages (from tiktoken->openai-whisper) (2024.11.6)\n",
            "Requirement already satisfied: requests>=2.26.0 in /usr/local/lib/python3.11/dist-packages (from tiktoken->openai-whisper) (2.32.3)\n",
            "Requirement already satisfied: filelock in /usr/local/lib/python3.11/dist-packages (from torch->openai-whisper) (3.18.0)\n",
            "Requirement already satisfied: typing-extensions>=4.10.0 in /usr/local/lib/python3.11/dist-packages (from torch->openai-whisper) (4.14.0)\n",
            "Requirement already satisfied: networkx in /usr/local/lib/python3.11/dist-packages (from torch->openai-whisper) (3.5)\n",
            "Requirement already satisfied: jinja2 in /usr/local/lib/python3.11/dist-packages (from torch->openai-whisper) (3.1.6)\n",
            "Requirement already satisfied: fsspec in /usr/local/lib/python3.11/dist-packages (from torch->openai-whisper) (2025.3.2)\n",
            "Collecting nvidia-cuda-nvrtc-cu12==12.4.127 (from torch->openai-whisper)\n",
            "  Downloading nvidia_cuda_nvrtc_cu12-12.4.127-py3-none-manylinux2014_x86_64.whl.metadata (1.5 kB)\n",
            "Collecting nvidia-cuda-runtime-cu12==12.4.127 (from torch->openai-whisper)\n",
            "  Downloading nvidia_cuda_runtime_cu12-12.4.127-py3-none-manylinux2014_x86_64.whl.metadata (1.5 kB)\n",
            "Collecting nvidia-cuda-cupti-cu12==12.4.127 (from torch->openai-whisper)\n",
            "  Downloading nvidia_cuda_cupti_cu12-12.4.127-py3-none-manylinux2014_x86_64.whl.metadata (1.6 kB)\n",
            "Collecting nvidia-cudnn-cu12==9.1.0.70 (from torch->openai-whisper)\n",
            "  Downloading nvidia_cudnn_cu12-9.1.0.70-py3-none-manylinux2014_x86_64.whl.metadata (1.6 kB)\n",
            "Collecting nvidia-cublas-cu12==12.4.5.8 (from torch->openai-whisper)\n",
            "  Downloading nvidia_cublas_cu12-12.4.5.8-py3-none-manylinux2014_x86_64.whl.metadata (1.5 kB)\n",
            "Collecting nvidia-cufft-cu12==11.2.1.3 (from torch->openai-whisper)\n",
            "  Downloading nvidia_cufft_cu12-11.2.1.3-py3-none-manylinux2014_x86_64.whl.metadata (1.5 kB)\n",
            "Collecting nvidia-curand-cu12==10.3.5.147 (from torch->openai-whisper)\n",
            "  Downloading nvidia_curand_cu12-10.3.5.147-py3-none-manylinux2014_x86_64.whl.metadata (1.5 kB)\n",
            "Collecting nvidia-cusolver-cu12==11.6.1.9 (from torch->openai-whisper)\n",
            "  Downloading nvidia_cusolver_cu12-11.6.1.9-py3-none-manylinux2014_x86_64.whl.metadata (1.6 kB)\n",
            "Collecting nvidia-cusparse-cu12==12.3.1.170 (from torch->openai-whisper)\n",
            "  Downloading nvidia_cusparse_cu12-12.3.1.170-py3-none-manylinux2014_x86_64.whl.metadata (1.6 kB)\n",
            "Requirement already satisfied: nvidia-cusparselt-cu12==0.6.2 in /usr/local/lib/python3.11/dist-packages (from torch->openai-whisper) (0.6.2)\n",
            "Requirement already satisfied: nvidia-nccl-cu12==2.21.5 in /usr/local/lib/python3.11/dist-packages (from torch->openai-whisper) (2.21.5)\n",
            "Requirement already satisfied: nvidia-nvtx-cu12==12.4.127 in /usr/local/lib/python3.11/dist-packages (from torch->openai-whisper) (12.4.127)\n",
            "Collecting nvidia-nvjitlink-cu12==12.4.127 (from torch->openai-whisper)\n",
            "  Downloading nvidia_nvjitlink_cu12-12.4.127-py3-none-manylinux2014_x86_64.whl.metadata (1.5 kB)\n",
            "Requirement already satisfied: sympy==1.13.1 in /usr/local/lib/python3.11/dist-packages (from torch->openai-whisper) (1.13.1)\n",
            "Requirement already satisfied: mpmath<1.4,>=1.1.0 in /usr/local/lib/python3.11/dist-packages (from sympy==1.13.1->torch->openai-whisper) (1.3.0)\n",
            "Requirement already satisfied: charset-normalizer<4,>=2 in /usr/local/lib/python3.11/dist-packages (from requests>=2.26.0->tiktoken->openai-whisper) (3.4.2)\n",
            "Requirement already satisfied: idna<4,>=2.5 in /usr/local/lib/python3.11/dist-packages (from requests>=2.26.0->tiktoken->openai-whisper) (3.10)\n",
            "Requirement already satisfied: urllib3<3,>=1.21.1 in /usr/local/lib/python3.11/dist-packages (from requests>=2.26.0->tiktoken->openai-whisper) (2.4.0)\n",
            "Requirement already satisfied: certifi>=2017.4.17 in /usr/local/lib/python3.11/dist-packages (from requests>=2.26.0->tiktoken->openai-whisper) (2025.6.15)\n",
            "Requirement already satisfied: MarkupSafe>=2.0 in /usr/local/lib/python3.11/dist-packages (from jinja2->torch->openai-whisper) (3.0.2)\n",
            "Downloading nvidia_cublas_cu12-12.4.5.8-py3-none-manylinux2014_x86_64.whl (363.4 MB)\n",
            "\u001b[2K   \u001b[90m━━━━━━━━━━━━━━━━━━━━━━━━━━━━━━━━━━━━━━━━\u001b[0m \u001b[32m363.4/363.4 MB\u001b[0m \u001b[31m4.5 MB/s\u001b[0m eta \u001b[36m0:00:00\u001b[0m\n",
            "\u001b[?25hDownloading nvidia_cuda_cupti_cu12-12.4.127-py3-none-manylinux2014_x86_64.whl (13.8 MB)\n",
            "\u001b[2K   \u001b[90m━━━━━━━━━━━━━━━━━━━━━━━━━━━━━━━━━━━━━━━━\u001b[0m \u001b[32m13.8/13.8 MB\u001b[0m \u001b[31m56.0 MB/s\u001b[0m eta \u001b[36m0:00:00\u001b[0m\n",
            "\u001b[?25hDownloading nvidia_cuda_nvrtc_cu12-12.4.127-py3-none-manylinux2014_x86_64.whl (24.6 MB)\n",
            "\u001b[2K   \u001b[90m━━━━━━━━━━━━━━━━━━━━━━━━━━━━━━━━━━━━━━━━\u001b[0m \u001b[32m24.6/24.6 MB\u001b[0m \u001b[31m46.8 MB/s\u001b[0m eta \u001b[36m0:00:00\u001b[0m\n",
            "\u001b[?25hDownloading nvidia_cuda_runtime_cu12-12.4.127-py3-none-manylinux2014_x86_64.whl (883 kB)\n",
            "\u001b[2K   \u001b[90m━━━━━━━━━━━━━━━━━━━━━━━━━━━━━━━━━━━━━━━━\u001b[0m \u001b[32m883.7/883.7 kB\u001b[0m \u001b[31m39.5 MB/s\u001b[0m eta \u001b[36m0:00:00\u001b[0m\n",
            "\u001b[?25hDownloading nvidia_cudnn_cu12-9.1.0.70-py3-none-manylinux2014_x86_64.whl (664.8 MB)\n",
            "\u001b[2K   \u001b[90m━━━━━━━━━━━━━━━━━━━━━━━━━━━━━━━━━━━━━━━━\u001b[0m \u001b[32m664.8/664.8 MB\u001b[0m \u001b[31m1.3 MB/s\u001b[0m eta \u001b[36m0:00:00\u001b[0m\n",
            "\u001b[?25hDownloading nvidia_cufft_cu12-11.2.1.3-py3-none-manylinux2014_x86_64.whl (211.5 MB)\n",
            "\u001b[2K   \u001b[90m━━━━━━━━━━━━━━━━━━━━━━━━━━━━━━━━━━━━━━━━\u001b[0m \u001b[32m211.5/211.5 MB\u001b[0m \u001b[31m5.6 MB/s\u001b[0m eta \u001b[36m0:00:00\u001b[0m\n",
            "\u001b[?25hDownloading nvidia_curand_cu12-10.3.5.147-py3-none-manylinux2014_x86_64.whl (56.3 MB)\n",
            "\u001b[2K   \u001b[90m━━━━━━━━━━━━━━━━━━━━━━━━━━━━━━━━━━━━━━━━\u001b[0m \u001b[32m56.3/56.3 MB\u001b[0m \u001b[31m11.4 MB/s\u001b[0m eta \u001b[36m0:00:00\u001b[0m\n",
            "\u001b[?25hDownloading nvidia_cusolver_cu12-11.6.1.9-py3-none-manylinux2014_x86_64.whl (127.9 MB)\n",
            "\u001b[2K   \u001b[90m━━━━━━━━━━━━━━━━━━━━━━━━━━━━━━━━━━━━━━━━\u001b[0m \u001b[32m127.9/127.9 MB\u001b[0m \u001b[31m8.0 MB/s\u001b[0m eta \u001b[36m0:00:00\u001b[0m\n",
            "\u001b[?25hDownloading nvidia_cusparse_cu12-12.3.1.170-py3-none-manylinux2014_x86_64.whl (207.5 MB)\n",
            "\u001b[2K   \u001b[90m━━━━━━━━━━━━━━━━━━━━━━━━━━━━━━━━━━━━━━━━\u001b[0m \u001b[32m207.5/207.5 MB\u001b[0m \u001b[31m7.1 MB/s\u001b[0m eta \u001b[36m0:00:00\u001b[0m\n",
            "\u001b[?25hDownloading nvidia_nvjitlink_cu12-12.4.127-py3-none-manylinux2014_x86_64.whl (21.1 MB)\n",
            "\u001b[2K   \u001b[90m━━━━━━━━━━━━━━━━━━━━━━━━━━━━━━━━━━━━━━━━\u001b[0m \u001b[32m21.1/21.1 MB\u001b[0m \u001b[31m70.2 MB/s\u001b[0m eta \u001b[36m0:00:00\u001b[0m\n",
            "\u001b[?25hBuilding wheels for collected packages: openai-whisper\n",
            "  Building wheel for openai-whisper (pyproject.toml) ... \u001b[?25l\u001b[?25hdone\n",
            "  Created wheel for openai-whisper: filename=openai_whisper-20240930-py3-none-any.whl size=803404 sha256=943844d83f5aba606d702b498bc7e83ffdcc4263c8ddfa3f34b8d1d76eadf633\n",
            "  Stored in directory: /root/.cache/pip/wheels/2f/f2/ce/6eb23db4091d026238ce76703bd66da60b969d70bcc81d5d3a\n",
            "Successfully built openai-whisper\n",
            "Installing collected packages: nvidia-nvjitlink-cu12, nvidia-curand-cu12, nvidia-cufft-cu12, nvidia-cuda-runtime-cu12, nvidia-cuda-nvrtc-cu12, nvidia-cuda-cupti-cu12, nvidia-cublas-cu12, nvidia-cusparse-cu12, nvidia-cudnn-cu12, nvidia-cusolver-cu12, openai-whisper\n",
            "  Attempting uninstall: nvidia-nvjitlink-cu12\n",
            "    Found existing installation: nvidia-nvjitlink-cu12 12.5.82\n",
            "    Uninstalling nvidia-nvjitlink-cu12-12.5.82:\n",
            "      Successfully uninstalled nvidia-nvjitlink-cu12-12.5.82\n",
            "  Attempting uninstall: nvidia-curand-cu12\n",
            "    Found existing installation: nvidia-curand-cu12 10.3.6.82\n",
            "    Uninstalling nvidia-curand-cu12-10.3.6.82:\n",
            "      Successfully uninstalled nvidia-curand-cu12-10.3.6.82\n",
            "  Attempting uninstall: nvidia-cufft-cu12\n",
            "    Found existing installation: nvidia-cufft-cu12 11.2.3.61\n",
            "    Uninstalling nvidia-cufft-cu12-11.2.3.61:\n",
            "      Successfully uninstalled nvidia-cufft-cu12-11.2.3.61\n",
            "  Attempting uninstall: nvidia-cuda-runtime-cu12\n",
            "    Found existing installation: nvidia-cuda-runtime-cu12 12.5.82\n",
            "    Uninstalling nvidia-cuda-runtime-cu12-12.5.82:\n",
            "      Successfully uninstalled nvidia-cuda-runtime-cu12-12.5.82\n",
            "  Attempting uninstall: nvidia-cuda-nvrtc-cu12\n",
            "    Found existing installation: nvidia-cuda-nvrtc-cu12 12.5.82\n",
            "    Uninstalling nvidia-cuda-nvrtc-cu12-12.5.82:\n",
            "      Successfully uninstalled nvidia-cuda-nvrtc-cu12-12.5.82\n",
            "  Attempting uninstall: nvidia-cuda-cupti-cu12\n",
            "    Found existing installation: nvidia-cuda-cupti-cu12 12.5.82\n",
            "    Uninstalling nvidia-cuda-cupti-cu12-12.5.82:\n",
            "      Successfully uninstalled nvidia-cuda-cupti-cu12-12.5.82\n",
            "  Attempting uninstall: nvidia-cublas-cu12\n",
            "    Found existing installation: nvidia-cublas-cu12 12.5.3.2\n",
            "    Uninstalling nvidia-cublas-cu12-12.5.3.2:\n",
            "      Successfully uninstalled nvidia-cublas-cu12-12.5.3.2\n",
            "  Attempting uninstall: nvidia-cusparse-cu12\n",
            "    Found existing installation: nvidia-cusparse-cu12 12.5.1.3\n",
            "    Uninstalling nvidia-cusparse-cu12-12.5.1.3:\n",
            "      Successfully uninstalled nvidia-cusparse-cu12-12.5.1.3\n",
            "  Attempting uninstall: nvidia-cudnn-cu12\n",
            "    Found existing installation: nvidia-cudnn-cu12 9.3.0.75\n",
            "    Uninstalling nvidia-cudnn-cu12-9.3.0.75:\n",
            "      Successfully uninstalled nvidia-cudnn-cu12-9.3.0.75\n",
            "  Attempting uninstall: nvidia-cusolver-cu12\n",
            "    Found existing installation: nvidia-cusolver-cu12 11.6.3.83\n",
            "    Uninstalling nvidia-cusolver-cu12-11.6.3.83:\n",
            "      Successfully uninstalled nvidia-cusolver-cu12-11.6.3.83\n",
            "Successfully installed nvidia-cublas-cu12-12.4.5.8 nvidia-cuda-cupti-cu12-12.4.127 nvidia-cuda-nvrtc-cu12-12.4.127 nvidia-cuda-runtime-cu12-12.4.127 nvidia-cudnn-cu12-9.1.0.70 nvidia-cufft-cu12-11.2.1.3 nvidia-curand-cu12-10.3.5.147 nvidia-cusolver-cu12-11.6.1.9 nvidia-cusparse-cu12-12.3.1.170 nvidia-nvjitlink-cu12-12.4.127 openai-whisper-20240930\n"
          ]
        }
      ],
      "source": [
        "!pip install openai-whisper"
      ]
    },
    {
      "cell_type": "code",
      "source": [
        "import whisper\n",
        "\n",
        "# Load the model\n",
        "model = whisper.load_model(\"medium\")  # or \"small\", \"medium\", \"large\" for better accuracy\n",
        "\n",
        "# Transcribe the audio\n",
        "result = model.transcribe(\"/content/elementary-podcasts-s01-e02.mp3\")  # You can also use .mp3 or .m4a\n",
        "\n",
        "# Print the transcription\n",
        "print(result[\"text\"])\n",
        "transcript = result[\"text\"]\n"
      ],
      "metadata": {
        "colab": {
          "base_uri": "https://localhost:8080/"
        },
        "id": "hRynnUJ-tI18",
        "outputId": "2030f2bf-a082-4f72-e6c8-53eedf6597d7"
      },
      "execution_count": 2,
      "outputs": [
        {
          "output_type": "stream",
          "name": "stderr",
          "text": [
            "100%|█████████████████████████████████████| 1.42G/1.42G [01:06<00:00, 23.0MiB/s]\n"
          ]
        },
        {
          "output_type": "stream",
          "name": "stdout",
          "text": [
            " Hello and welcome to this Learn English Elementary recording brought to you by the British Council. To find out more and to access language activities and audio scripts, visit our Learn English website at www.britishcouncil.org forward slash learn English. Hello and welcome to Learn English Elementary podcast number two. I'm Tess. And I'm Ravi. We're the presenters and we're here in the studio with our producer, Gordon. Hi Gordon. Hello! And he'll be back later with another one of his, er, jokes. Now last week I told you that Tess loved riding her mountain bike and you've been away riding your bike this week, haven't you? I have, yes. Where did you go? We went to the Lake District in the North West. Oh, beautiful. For our listeners who don't know, the Lake District is in the North West of England and it's a really beautiful part of the country. I went there last year, you know. It's a difficult place to ride a bike though. Lots of hills. I like riding up hills. I prefer riding down them. Did you stay in hotels? No, we were camping. We took two small tents with us and at the end of every day we just put the tents up on a campsite. It was great. Really relaxing. What was the weather like? Camping's great when the weather's OK but when it's raining it's horrible. Yeah, we were really lucky. It was really sunny. Well it rained one day but that was OK. Sounds great. I need a holiday. But, well, I think I prefer to spend my holidays on the beach. It sounds like a lot of hard work, Tess. I love it. I'm going again next year. I can't wait. But it's time to move on to the rest of the show. I know we've got lots of interesting people to hear from. So let's start with our I'd like to meet section. In this part of the show we ask people a simple question. Which famous person, dead or alive, would you like to meet? And of course we ask them to explain why. Our guest today on I'd like to meet is Yasmin from Cardiff. Hello Yasmin and welcome to the show. Hello. It's nice to be here. Hello Yasmin. Can you tell us something about yourself? Well, erm, my name's Yasmin. I'm 18 years old. I live in Cardiff, that's in Wales. And I'm training to be a beauty therapist. A beauty therapist? That's a good job. Now I'm going to ask the question. So Yasmin, which famous person, dead or alive, would you like to meet? Oh, I'd like to meet Shakira. Shakira? This'll be interesting. Can you tell us something about her? Sure. She's a singer and a dancer too. She's from Columbia and she sings in Spanish and English. And why did you choose Shakira to talk about today? For quite a lot of reasons. First, I think she's a fantastic singer. I just fell in love with her voice the first time I heard her sing. It's so different. And then she writes her own songs. She wrote her first song when she was only eight, I think. I love singing and I write my own songs too, so I understand how difficult it is. And I'd love to sit down with her and write a song together. I'm sure she could teach me a lot. Can you play any musical instruments? The guitar and the piano. In the beginning she wrote songs and sang in Spanish. And she was very famous in Latin America. But she didn't speak English, so she had to learn it. And I think she learned it really well. I admire her because she didn't just translate her old songs from Spanish to English. She wrote new ones in English. It isn't easy to write songs in a foreign language, but her words are great, I think. She still sings in Spanish too. She records two versions of her songs, one in English and one in Spanish. Another reason I like her is because she's a mixture of different cultures. And that makes her music interesting. Her mother is from Colombia, but her father is Lebanese. So there's a lot of Arabic influence in her music. And not only Arabic, there's Indian, Brazilian, Iranian. She's interested in all sorts of music. And I think she's a nice person too. Her videos are very, well, you know, sexy. But I don't think she's really like that. She's got four dogs and she likes working in her garden. And she doesn't drink alcohol and she doesn't smoke. Thanks, Yasmin. One more question. What would you like to talk to Shakira about if you could meet her? Oh, lots of things. Like I said before, I'd like to ask her about how she writes her songs. And I'd like her to teach me how to dance. She's an incredible dancer. She certainly is. Thanks, Yasmin. That was great. I think I'd really like to meet Shakira too. Hmm, I'm sure you would, Ravi. Have you ever met anyone famous? No, I don't think so. Only you, Tess. Oh. Right, listeners. Remember that we'd like to hear from you. Which famous person, dead or alive, would you like to meet and why? Email us at learnenglishpodcast at britishcouncil.org. That's Learn English Podcast, or one word, at britishcouncil, or one word, dot org. That's O-R-G. Let us know which famous person you would like to meet and you could appear on the programme. OK, now it's quiz time. This week we're going to play Hot Seat and here to play are Ben and Poppy. Hi. Hello. Your brother and sister, aren't you? Who's the oldest? I am. I'm fifteen. And I'm fourteen. OK, great. Now, I'll explain how to play Hot Seat and then we can start, OK? These cards have all got words on. One of you has to explain the words and the other one has to guess them. But remember, you have to guess the words. But remember, you can't use the word on the card. You have to guess as many words as you can in one minute, OK? So, who's going to be in the Hot Seat? I am. I'll guess and Ben will explain the words. OK, you've got one minute. Are you ready, Ben? Ready. Ready, Poppy? Ready. Go! It's yellow. It's a fruit. Banana. Erm, it's got four wheels. You drive it. Car? Yes. Erm, you eat it. You make sandwiches with it. Bread. You write in it. Diary. No, you use it in school and you write in it. Is it exercise book? Yes. It's a sport. Football. No. You hit the ball over the net. Wimbledon. Tennis. It tells the time. It's got two hands. A watch. No, it's on the wall. A clock. A big shop. You do all the shopping there. You buy food there. Supermarket. Yes. It's an animal. It's a pet. It says woof. Dog. It's green. It... Buzzer. Gah! Stop. Wow. Well done. Let's count them. How many was that? I think it was eight. Yes, eight. Well done, you two. Well done. And if any of you listening have a good game we can play in quiz time, write to us and let us know. The address is learnenglishpodcast at britishcouncil.org. We'd love to hear your ideas for games we can play. OK. Now it's time for Our Person In. This is the part of the show where we hear from people in different countries around the world. This week we're going to listen to Rachel Glover. Rachel is our woman in Argentina. I came to live in Buenos Aires, the capital city of Argentina, in 1998. On my first night in this beautiful city I went for a walk in the streets near my new flat. In a small square, close to my home, I heard music. I went to have a look and for the first time I saw people dancing the tango. The tango is a dance that Argentina gave to the world, but no one knows exactly when or where people first danced the tango, or even where the word tango comes from. At the start of the 20th century the population of Buenos Aires got much bigger, as people arrived from all over the world to start a new life in South America. More than a million people came from Africa and from Europe, Spain, Italy, France, Russia, Poland. The tango began around this time. For me, the dance shows both the sadness of these people who had said goodbye to their homes and also the hope of a new start in Argentina. An Argentinian friend told me that you have to learn the tango if you want to understand Argentina. I decided to learn this beautiful dance. I went to a tango school in the centre of Buenos Aires and joined a class. I was very surprised to find that my teacher was not Argentinian, but Scottish. Her name was Claire Flanagan. She came to Buenos Aires 15 years ago because of her love for tango. I fell in love with the tango and now I've fallen in love with Buenos Aires, she says. Great! Can you dance the tango, Tess? No, I can't. I'd love to learn. We can learn together. OK then. And don't forget that you can write in and tell us something interesting about your city or town. You can send it to us at learnenglishpodcast at britishcouncil.org. Right. Earlier we listened to Yasmin talking about Shakira. Remember, Yasmin told us that Shakira records two versions of her songs, one in Spanish and one in English. For this week's Your Turn, we asked some students in London this question. What do you prefer, songs in English or songs in your language? Good one. Songs in English or songs in your own language? Let's hear what they said. I prefer songs in English because I watch MTV all the time and the songs I like are always in English. Russian songs, I come from Russia, are not as good to dance to as songs in English and it can help me learn English too. I like some songs in English and some songs in Japanese, but I think I like songs in Japanese best because the words are very important to me. In English songs, you can't always hear all the words or you don't understand some words, but when I listen to Japanese songs, I can really understand the meaning of the song. I really like rap music, so I listen to a lot of music in English, mostly American music. There are some singers in Germany who rap in German, but it doesn't sound very good to me. I don't think German is a good language for rapping. I learn some new English words from rap music, but I think some of them are words I can't say in the classroom. I come from Mexico and I like songs in Spanish best because I think a lot of the songs I hear in English are a bit stupid. I mean, it's only I love you baby or I want to dance with you baby. The songs I listen to in Spanish are better because the words are about real things and feelings. Well, I think it's a strange question. It's too difficult to answer. It depends. Sometimes I like to listen to songs in English and I study the words and learn some new things, but sometimes I just listen to songs in Greek where I understand all the words. I like some songs in English and some songs in Greek. If the music is good, I like it. Hmm, interesting. What sort of music do you like, Tess? Oh, I listen to all kinds of music, but I love music I can dance to. And always in English? Usually, yeah. How about you listeners? Do you prefer songs in English or songs in your own language? Why not send us an email and let us know? You can send your emails to us at learnenglishpodcast at britishcouncil.org. We'd love to hear from you. Right, now it's time to meet Carolina again. Remember that Carolina is from Venezuela. She's come to Britain to live, study and, she hopes, have a good time. And we're going with her. She speaks very good English, but this is her first visit to Britain, so some things are very strange for her. Last time we heard Carolina at the immigration desk at the airport where they checked her passport. Next, Carolina went to collect her suitcase, but unfortunately, her suitcase didn't appear. Excuse me, can you tell me where the lost luggage office is, please? It's over there. That desk over there, near the exit. Thank you. Hello. My bag hasn't arrived. What do I have to do? Okay. Where have you arrived from? From Venezuela, Caracas. And you're sure that your bag isn't on the carousel? I'm sure. I've waited for an hour. All the other people on my flight have gone. There are no more bags coming out. Okay. We'll need to fill in a report. Can I have your name, please? It's Carolina. And my surname is Lopez. Okay. Now we need a description of the bag. Can you tell me what it looks like? It's a black suitcase, quite big. Look at these pictures. Which one looks most like your suitcase? This one, I think. The biggest one? Yes, I think so. And is it all black? The handle as well? Yes, everything. A black suitcase and a black handle. Okay. Anything else? Yes. There was a label on it with my name. And there's a little white star on the top next to the handle, so I can see that it's mine. Little white star. Okay. Anything else? No, I think that's everything. Okay. Don't worry. I'm sure we'll find it. Can you wait a few minutes while I make some calls? Okay. Thank you. Poor Carolina. I hope they found her bag. Me too. We'll hear more next time, but that's almost everything for today before we listen to Tom, our English teacher. Just time for one more thing. Gordon! Yes, here I am. Okay then, Gordon. Let's hear your joke for today. Okay. It's a camping joke. Tess, you'll love it. Come on then. Well, Sherlock Holmes and Dr Watson are on a camping trip in the countryside. Late at night, Holmes and Watson are lying on their backs, looking up at all the stars in the sky. Sherlock Holmes says, Dr Watson, look at all the stars and tell me what important question we have to ask. Dr Watson says, well, okay, there are millions and millions of stars in the sky. No one knows exactly how many. There are planets out there that no one has seen with a telescope. Maybe there is a planet somewhere that is just like Earth. I think the question we have to ask is, is there life in another part of our universe? And Sherlock Holmes says, Watson, you idiot, the question we have to ask is, where is our tent? That's quite good actually, Gordon. Not bad. Well, that really is all we've got time for. We have to go now, but don't go away. After this little break, you're going to hear Tom, our studio English teacher. After every podcast, Tom talks about the language you heard and gives you ideas to help you learn. So, don't go away, but we'll say goodbye now. See you next time. Bye. Don't forget to send us your emails. Here's that address one more time. It's Learn English podcast at British Council dot org. You are listening to a Learn English elementary recording from the British Council. Hello again. I'm Tom. At the end of every programme, I'll talk about some of the language you heard in the programmes and talk about ways to help you learn English. Let's start by looking at something Carolina said. Listen to how she asked for directions. Excuse me, can you tell me where the lost luggage office is, please? It's over there. That desk over there, near the exit. When she asked for directions, Carolina said, can you tell me where the lost luggage office is, please? But that isn't the only way to ask for directions. Can you think of other ways? Carolina could also say, can you tell me the way to the lost luggage office, please? Or, can you tell me how to get to the lost luggage office, please? There are different ways to ask for directions. You might know some other ways. One thing though that's very important is that Carolina asked politely. Excuse me, can you tell me where the lost luggage office is, please? Carolina said, excuse me, and please, when she asked. In Britain we say please and thank you a lot. We're very polite. Some people might not be very happy if you forget to say please and thank you, so try to remember it. Now, Carolina used can you tell me to ask for directions, but we heard can in other parts of the programme too. Listen. Great! Can you dance the tango, Tess? No, I can't. I'd love to learn. And Tess asked Yasmin, can you play any musical instruments? Ravi said, can you dance the tango? And Tess asked, can you play any musical instruments? In these questions can is used to talk about ability. I can swim, I can play the piano. When Carolina asked for directions, can you tell me, can is used as a request when you ask someone to do something. We use can to talk about ability and we also use it to make a request. Let's listen again to how Ravi introduced the hot seat game. OK, great! Now, I'll explain how to play hot seat and then we can start, OK? These cards have all got words on. One of you has to explain the words and the other one has to guess them. Ravi had a pile of cards and each card had a word on it. Now, maybe you don't have anyone around to play hot seat with, but writing words on cards can still be useful. When I learnt Russian, I got a pile of cards and I wrote a Russian word on one side of the card and the English translation on the other side. I put the cards in my coat pocket and every day on the bus to work I read the cards to see how many I remembered. Every time I learnt a new word in my Russian class, I made a card for it, so there were always new cards in my pocket. It really helped me remember new words. You should try it. And if you've got a friend to play hot seat with, that's even better. OK, I want to have a quick look at something else. After every podcast, I'll show you something that you can try to use in your own English, an expression or something like that. This week, it was something that Carolina heard in the airport. Listen again to Carolina describing her bag to the man. Listen to the questions that the man asks. Look at these pictures. Which one looks most like your suitcase? Hmm... this one, I think. The biggest one? Yes, I think so. And is it all black? The handle as well? Yes, everything. A black suitcase and a black handle. OK. Anything else? Yes, there was a label on it with my name. And there's a little white star on the top next to the handle, so I can see that it's mine. Hmm... little white star. OK, anything else? No, I think that's everything. OK, don't worry, I'm sure we'll find it. When Carolina described her bag, the man said, Anything else? Carolina said, No, that's everything. Anything else is something you hear quite a lot. You hear it in shops and restaurants. When you ask for something, the shop assistant or waiter may say, Anything else? To check if your order is finished. You can reply, That's everything. Or of course, you can ask for something else. Remember that we usually use anything in questions and negative sentences. That's why the question is, Anything else? Try to use anything else before the next podcast. OK, I'm going to stop there. I'll talk to you all again next time. Remember, you can send your questions to me at learnenglishpodcast at britishcouncil.org I'll be happy to answer them. In a moment, you'll hear the address for the website where you can read everything you've heard in this podcast. Right, that's all for this time. Bye for now. See you next time. Learn English\n"
          ]
        }
      ]
    },
    {
      "cell_type": "code",
      "source": [
        "!pip install google-generativeai\n"
      ],
      "metadata": {
        "colab": {
          "base_uri": "https://localhost:8080/"
        },
        "id": "5UkB53revhoV",
        "outputId": "ec6e93bc-7d2e-4cb2-ab30-ae074ce0a0e0"
      },
      "execution_count": 3,
      "outputs": [
        {
          "output_type": "stream",
          "name": "stdout",
          "text": [
            "Requirement already satisfied: google-generativeai in /usr/local/lib/python3.11/dist-packages (0.8.5)\n",
            "Requirement already satisfied: google-ai-generativelanguage==0.6.15 in /usr/local/lib/python3.11/dist-packages (from google-generativeai) (0.6.15)\n",
            "Requirement already satisfied: google-api-core in /usr/local/lib/python3.11/dist-packages (from google-generativeai) (2.25.1)\n",
            "Requirement already satisfied: google-api-python-client in /usr/local/lib/python3.11/dist-packages (from google-generativeai) (2.172.0)\n",
            "Requirement already satisfied: google-auth>=2.15.0 in /usr/local/lib/python3.11/dist-packages (from google-generativeai) (2.38.0)\n",
            "Requirement already satisfied: protobuf in /usr/local/lib/python3.11/dist-packages (from google-generativeai) (5.29.5)\n",
            "Requirement already satisfied: pydantic in /usr/local/lib/python3.11/dist-packages (from google-generativeai) (2.11.7)\n",
            "Requirement already satisfied: tqdm in /usr/local/lib/python3.11/dist-packages (from google-generativeai) (4.67.1)\n",
            "Requirement already satisfied: typing-extensions in /usr/local/lib/python3.11/dist-packages (from google-generativeai) (4.14.0)\n",
            "Requirement already satisfied: proto-plus<2.0.0dev,>=1.22.3 in /usr/local/lib/python3.11/dist-packages (from google-ai-generativelanguage==0.6.15->google-generativeai) (1.26.1)\n",
            "Requirement already satisfied: googleapis-common-protos<2.0.0,>=1.56.2 in /usr/local/lib/python3.11/dist-packages (from google-api-core->google-generativeai) (1.70.0)\n",
            "Requirement already satisfied: requests<3.0.0,>=2.18.0 in /usr/local/lib/python3.11/dist-packages (from google-api-core->google-generativeai) (2.32.3)\n",
            "Requirement already satisfied: cachetools<6.0,>=2.0.0 in /usr/local/lib/python3.11/dist-packages (from google-auth>=2.15.0->google-generativeai) (5.5.2)\n",
            "Requirement already satisfied: pyasn1-modules>=0.2.1 in /usr/local/lib/python3.11/dist-packages (from google-auth>=2.15.0->google-generativeai) (0.4.2)\n",
            "Requirement already satisfied: rsa<5,>=3.1.4 in /usr/local/lib/python3.11/dist-packages (from google-auth>=2.15.0->google-generativeai) (4.9.1)\n",
            "Requirement already satisfied: httplib2<1.0.0,>=0.19.0 in /usr/local/lib/python3.11/dist-packages (from google-api-python-client->google-generativeai) (0.22.0)\n",
            "Requirement already satisfied: google-auth-httplib2<1.0.0,>=0.2.0 in /usr/local/lib/python3.11/dist-packages (from google-api-python-client->google-generativeai) (0.2.0)\n",
            "Requirement already satisfied: uritemplate<5,>=3.0.1 in /usr/local/lib/python3.11/dist-packages (from google-api-python-client->google-generativeai) (4.2.0)\n",
            "Requirement already satisfied: annotated-types>=0.6.0 in /usr/local/lib/python3.11/dist-packages (from pydantic->google-generativeai) (0.7.0)\n",
            "Requirement already satisfied: pydantic-core==2.33.2 in /usr/local/lib/python3.11/dist-packages (from pydantic->google-generativeai) (2.33.2)\n",
            "Requirement already satisfied: typing-inspection>=0.4.0 in /usr/local/lib/python3.11/dist-packages (from pydantic->google-generativeai) (0.4.1)\n",
            "Requirement already satisfied: grpcio<2.0.0,>=1.33.2 in /usr/local/lib/python3.11/dist-packages (from google-api-core[grpc]!=2.0.*,!=2.1.*,!=2.10.*,!=2.2.*,!=2.3.*,!=2.4.*,!=2.5.*,!=2.6.*,!=2.7.*,!=2.8.*,!=2.9.*,<3.0.0dev,>=1.34.1->google-ai-generativelanguage==0.6.15->google-generativeai) (1.73.0)\n",
            "Requirement already satisfied: grpcio-status<2.0.0,>=1.33.2 in /usr/local/lib/python3.11/dist-packages (from google-api-core[grpc]!=2.0.*,!=2.1.*,!=2.10.*,!=2.2.*,!=2.3.*,!=2.4.*,!=2.5.*,!=2.6.*,!=2.7.*,!=2.8.*,!=2.9.*,<3.0.0dev,>=1.34.1->google-ai-generativelanguage==0.6.15->google-generativeai) (1.71.0)\n",
            "Requirement already satisfied: pyparsing!=3.0.0,!=3.0.1,!=3.0.2,!=3.0.3,<4,>=2.4.2 in /usr/local/lib/python3.11/dist-packages (from httplib2<1.0.0,>=0.19.0->google-api-python-client->google-generativeai) (3.2.3)\n",
            "Requirement already satisfied: pyasn1<0.7.0,>=0.6.1 in /usr/local/lib/python3.11/dist-packages (from pyasn1-modules>=0.2.1->google-auth>=2.15.0->google-generativeai) (0.6.1)\n",
            "Requirement already satisfied: charset-normalizer<4,>=2 in /usr/local/lib/python3.11/dist-packages (from requests<3.0.0,>=2.18.0->google-api-core->google-generativeai) (3.4.2)\n",
            "Requirement already satisfied: idna<4,>=2.5 in /usr/local/lib/python3.11/dist-packages (from requests<3.0.0,>=2.18.0->google-api-core->google-generativeai) (3.10)\n",
            "Requirement already satisfied: urllib3<3,>=1.21.1 in /usr/local/lib/python3.11/dist-packages (from requests<3.0.0,>=2.18.0->google-api-core->google-generativeai) (2.4.0)\n",
            "Requirement already satisfied: certifi>=2017.4.17 in /usr/local/lib/python3.11/dist-packages (from requests<3.0.0,>=2.18.0->google-api-core->google-generativeai) (2025.6.15)\n"
          ]
        }
      ]
    },
    {
      "cell_type": "code",
      "source": [
        "import google.generativeai as genai\n",
        "\n",
        "# Configure Gemini API\n",
        "genai.configure(api_key=\"#################\")\n",
        "\n",
        "# Create Gemini model\n",
        "model = genai.GenerativeModel(\"models/gemini-2.0-flash\")\n",
        "\n",
        "# Create a chat session with context\n",
        "chat = model.start_chat(\n",
        "    history=[\n",
        "        {\"role\": \"user\", \"parts\": [\"Here is a transcript of a conversation or speech:\\n\\n\" + transcript]},\n",
        "        {\"role\": \"model\", \"parts\": [\"Understood. I will answer questions based on this transcript.\"]}\n",
        "    ]\n",
        ")\n",
        "\n",
        "chat_history = []\n",
        "# Loop for interaction\n",
        "while True:\n",
        "    query = input(\"\\nYou: \")\n",
        "    if query.lower() in [\"exit\", \"quit\"]:\n",
        "        break\n",
        "    response = chat.send_message(query)\n",
        "    chat_history.append({\"role\": \"user\", \"message\": query})\n",
        "    chat_history.append({\"role\": \"model\", \"message\": response.text})\n",
        "    print(\"\\nBot:\", response.text)\n"
      ],
      "metadata": {
        "colab": {
          "base_uri": "https://localhost:8080/",
          "height": 1000
        },
        "id": "aTMCuzM60JDr",
        "outputId": "ff18803b-ed2c-4ed0-842e-aff19ebec87e"
      },
      "execution_count": 4,
      "outputs": [
        {
          "name": "stdout",
          "output_type": "stream",
          "text": [
            "\n",
            "You: What do you know about Tess's weekend?\n",
            "\n",
            "Bot: Tess went to the Lake District in the North West of England and went camping with two small tents. The weather was mostly sunny, but it rained one day. She enjoys mountain biking and riding up hills, though she prefers riding down them. She's planning to go again next year.\n",
            "\n",
            "\n",
            "You: What do you know about Ravi?\n",
            "\n",
            "Bot: Ravi is one of the presenters of the Learn English Elementary podcast, alongside Tess. He works in the studio with her and the producer, Gordon. He doesn't seem to enjoy outdoor activities as much as Tess and prefers beach holidays. He also admits to never having met anyone famous, except for Tess.\n",
            "\n",
            "\n",
            "You: Why does Yasmin like Shakira?\n",
            "\n",
            "Bot: Yasmin likes Shakira for several reasons:\n",
            "\n",
            "*   She thinks Shakira is a fantastic singer and fell in love with her voice.\n",
            "*   She admires Shakira's songwriting skills, especially since Shakira writes her own songs and wrote her first song at a young age. Yasmin also writes songs and can relate to the difficulty.\n",
            "*   She admires Shakira's ability to learn English and write new songs in English, instead of just translating her old songs.\n",
            "*   She appreciates Shakira's mixture of cultures (Colombian and Lebanese) which influences her music.\n",
            "*   She likes that Shakira seems like a nice person, mentioning her dogs, gardening, and that she doesn't drink or smoke.\n",
            "\n",
            "\n",
            "You: How many words does Poppy guess correctly on Hot Seat? Choose the correct number.\n",
            "\n",
            "Bot: According to the transcript, Poppy guessed eight words correctly in the Hot Seat game.\n",
            "\n",
            "\n",
            "You: What does Rachel say about the tango?\n",
            "\n",
            "Bot: Rachel says the following about the tango:\n",
            "\n",
            "*   The tango is a dance that Argentina gave to the world, but its exact origins are unknown.\n",
            "*   It began around the start of the 20th century when Buenos Aires' population grew with immigrants from Africa and Europe.\n",
            "*   For her, the dance shows both the sadness of these people who had said goodbye to their homes and also the hope of a new start in Argentina.\n",
            "*   An Argentinian friend told her that you have to learn the tango if you want to understand Argentina.\n",
            "*   She fell in love with the tango and has now fallen in love with Buenos Aires.\n",
            "\n",
            "\n",
            "You: How many people on You Turn prefer to listen to songs in English? Choose the correct number.\n",
            "\n",
            "Bot: Based on the \"Your Turn\" segment, 3 people specifically state that they prefer to listen to songs in English. One person prefers songs in Japanese. One person likes songs in Spanish best. And the last person says they like some songs in English and some songs in Greek, and it depends on the music.\n",
            "\n",
            "\n",
            "You: What do you know about Carolina's bag?\n",
            "\n",
            "Bot: Carolina's bag is a black suitcase, quite big, with a black handle. It has a label with her name on it and a little white star on the top next to the handle. Unfortunately, it didn't arrive on the carousel at the airport, and she had to fill in a lost luggage report.\n",
            "\n",
            "\n",
            "You: What do you know about Sherlock Holmes and Doctor Watson?\n",
            "\n",
            "Bot: Sherlock Holmes and Dr. Watson are characters in a joke told by Gordon. In the joke, they are on a camping trip. Holmes asks Watson what important question they should ask while looking at the stars. Watson gives a philosophical answer about the possibility of life on other planets. Holmes then reveals the joke by saying the important question is, \"Where is our tent?\"\n",
            "\n",
            "\n",
            "You: What does Sherlock Holmes think when he sees the stars? Choose the correct answer.\n",
            "\n",
            "Bot: Sherlock Holmes doesn't think about astronomy or the possibility of life on other planets when he sees the stars in the joke. He is concerned about the practical matter of finding their tent.\n",
            "\n",
            "\n",
            "You: exit\n"
          ]
        }
      ]
    },
    {
      "cell_type": "code",
      "source": [
        "!pip install fpdf\n"
      ],
      "metadata": {
        "colab": {
          "base_uri": "https://localhost:8080/"
        },
        "id": "TaGctVoF28QU",
        "outputId": "1a08d4be-3694-4915-c9f6-cdb62d93593a"
      },
      "execution_count": 5,
      "outputs": [
        {
          "output_type": "stream",
          "name": "stdout",
          "text": [
            "Collecting fpdf\n",
            "  Downloading fpdf-1.7.2.tar.gz (39 kB)\n",
            "  Preparing metadata (setup.py) ... \u001b[?25l\u001b[?25hdone\n",
            "Building wheels for collected packages: fpdf\n",
            "  Building wheel for fpdf (setup.py) ... \u001b[?25l\u001b[?25hdone\n",
            "  Created wheel for fpdf: filename=fpdf-1.7.2-py2.py3-none-any.whl size=40704 sha256=35bd6628d903d98382fa789bd239351d8705b92a6d4058d8f52cea26a81b494b\n",
            "  Stored in directory: /root/.cache/pip/wheels/65/4f/66/bbda9866da446a72e206d6484cd97381cbc7859a7068541c36\n",
            "Successfully built fpdf\n",
            "Installing collected packages: fpdf\n",
            "Successfully installed fpdf-1.7.2\n"
          ]
        }
      ]
    },
    {
      "cell_type": "code",
      "source": [
        "from fpdf import FPDF\n",
        "\n",
        "# Create a class for our PDF format\n",
        "class ChatPDF(FPDF):\n",
        "    def header(self):\n",
        "        self.set_font(\"Arial\", \"B\", 14)\n",
        "        self.cell(0, 10, \"Chatbot Conversation Transcript\", ln=True, align=\"C\")\n",
        "        self.ln(5)\n",
        "\n",
        "    def add_chat(self, history):\n",
        "        self.set_font(\"Arial\", size=12)\n",
        "        for entry in history:\n",
        "            prefix = \"You: \" if entry[\"role\"] == \"user\" else \"Bot: \"\n",
        "            text = prefix + entry[\"message\"]\n",
        "            self.multi_cell(0, 10, text)\n",
        "            self.ln(2)\n",
        "\n",
        "# Create PDF\n",
        "pdf = ChatPDF()\n",
        "pdf.add_page()\n",
        "pdf.add_chat(chat_history)\n",
        "\n",
        "# Save it\n",
        "pdf.output(\"chat_transcript.pdf\")\n"
      ],
      "metadata": {
        "colab": {
          "base_uri": "https://localhost:8080/",
          "height": 36
        },
        "id": "6HQ-DWq96Z5W",
        "outputId": "73cbdd5f-8b9b-4c93-f005-58d715dafe63"
      },
      "execution_count": 6,
      "outputs": [
        {
          "output_type": "execute_result",
          "data": {
            "text/plain": [
              "''"
            ],
            "application/vnd.google.colaboratory.intrinsic+json": {
              "type": "string"
            }
          },
          "metadata": {},
          "execution_count": 6
        }
      ]
    },
    {
      "cell_type": "code",
      "source": [
        "import smtplib\n",
        "from email.message import EmailMessage\n",
        "\n",
        "def send_email_with_pdf(sender_email, app_password, recipient_email, pdf_path):\n",
        "    msg = EmailMessage()\n",
        "    msg[\"Subject\"] = \"Chatbot Transcript\"\n",
        "    msg[\"From\"] = sender_email\n",
        "    msg[\"To\"] = recipient_email\n",
        "    msg.set_content(\"Hi, attached is the chatbot conversation transcript as a PDF.\")\n",
        "\n",
        "    # Read and attach the PDF\n",
        "    with open(pdf_path, \"rb\") as f:\n",
        "        file_data = f.read()\n",
        "        file_name = f.name\n",
        "\n",
        "    msg.add_attachment(file_data, maintype=\"application\", subtype=\"pdf\", filename=file_name)\n",
        "\n",
        "    # Send email\n",
        "    with smtplib.SMTP(\"smtp.gmail.com\", 587) as smtp:\n",
        "        smtp.starttls()\n",
        "        smtp.login(sender_email, app_password)\n",
        "        smtp.send_message(msg)\n",
        "\n",
        "    print(\"📧 Email sent successfully!\")\n",
        "\n",
        "# === Call it here ===\n",
        "send_email_with_pdf(\n",
        "    sender_email=\"#########@gmail.com\",\n",
        "    app_password=\"#########\",\n",
        "    recipient_email=\"##############@gmail.com\",\n",
        "    pdf_path=\"/content/chat_transcript.pdf\"\n",
        ")\n"
      ],
      "metadata": {
        "colab": {
          "base_uri": "https://localhost:8080/"
        },
        "id": "2py0qFgl6jBr",
        "outputId": "cda8bfee-ebae-4b98-dde4-e241fb3029e5"
      },
      "execution_count": 7,
      "outputs": [
        {
          "output_type": "stream",
          "name": "stdout",
          "text": [
            "📧 Email sent successfully!\n"
          ]
        }
      ]
    },
    {
      "cell_type": "code",
      "source": [],
      "metadata": {
        "id": "RKuvQqvaAciR"
      },
      "execution_count": null,
      "outputs": []
    }
  ]
}